{
 "cells": [
  {
   "cell_type": "markdown",
   "metadata": {},
   "source": [
    "<center>\n",
    "<img src=\"../../img/ods_stickers.jpg\">\n",
    "## Open Data Science course. Session № 2\n",
    "</center>\n",
    "Authors: Olga Daikhovskaya, Yury Kashnitsky. The material is distributed under [Creative Commons CC BY-NC-SA 4.0](https://creativecommons.org/licenses/by-nc-sa/4.0/). You are free to use the material for any non-commercial purposes, mentioning the original authors is mandatory."
   ]
  },
  {
   "cell_type": "markdown",
   "metadata": {},
   "source": [
    "# <center>Homework № 7.\n",
    "## <center> Unupervised learning"
   ]
  },
  {
   "cell_type": "markdown",
   "metadata": {},
   "source": [
    "In this task, we will look at how data dimensionality reduction and clustering methods work. At the same time, we'll practice solving classification task again.\n",
    "\n",
    "We will work with the [Samsung Human Activity Recognition] (https://archive.ics.uci.edu/ml/datasets/Human+Activity+Recognition+Using+Smartphones) dataset. Download the data from there. The data comes from the accelerometers and gyros of Samsung Galaxy S3 mobile phones ( you can find more info about the features using on the link above), the type of activity of a person with a phone in his pocket is also known - whether he walked, stood, lay, sat or walked up or down the stairs.\n",
    "\n",
    "First we imagine that the type of activity is unknown to us, and we will try to cluster people purely on the basis of available features. Then we solve the problem of determining the type of physical activity precisely as a classification problem.\n"
   ]
  },
  {
   "cell_type": "code",
   "execution_count": 12,
   "metadata": {
    "ExecuteTime": {
     "end_time": "2020-05-15T03:04:54.525272Z",
     "start_time": "2020-05-15T03:04:54.509450Z"
    }
   },
   "outputs": [],
   "source": [
    "import numpy as np\n",
    "import pandas as pd\n",
    "import seaborn as sns\n",
    "from tqdm import tqdm_notebook\n",
    "\n",
    "%matplotlib inline\n",
    "from matplotlib import pyplot as plt\n",
    "plt.style.use(['seaborn-darkgrid'])\n",
    "plt.rcParams['figure.figsize'] = (12, 9)\n",
    "plt.rcParams['font.family'] = 'DejaVu Sans'\n",
    "\n",
    "from sklearn import metrics\n",
    "from sklearn.cluster import KMeans, AgglomerativeClustering, SpectralClustering\n",
    "from sklearn.decomposition import PCA\n",
    "from sklearn.model_selection import GridSearchCV\n",
    "from sklearn.preprocessing import StandardScaler\n",
    "from sklearn.svm import LinearSVC\n",
    "\n",
    "RANDOM_STATE = 17"
   ]
  },
  {
   "cell_type": "code",
   "execution_count": 13,
   "metadata": {
    "ExecuteTime": {
     "end_time": "2020-05-15T03:04:54.806057Z",
     "start_time": "2020-05-15T03:04:54.685004Z"
    }
   },
   "outputs": [
    {
     "name": "stdout",
     "output_type": "stream",
     "text": [
      "/mnt/C636326E36325F9B/git_repo/mlcourse_dubai/jupyter_notebooks/Lecture07_unsupervised\r\n"
     ]
    }
   ],
   "source": [
    "!pwd"
   ]
  },
  {
   "cell_type": "code",
   "execution_count": 14,
   "metadata": {
    "ExecuteTime": {
     "end_time": "2020-05-15T03:04:57.051773Z",
     "start_time": "2020-05-15T03:04:56.929018Z"
    }
   },
   "outputs": [
    {
     "name": "stdout",
     "output_type": "stream",
     "text": [
      "'HAPT Data Set'  'UCI HAR Dataset'  'UCI HAR Dataset.names'\r\n"
     ]
    }
   ],
   "source": [
    "!ls ../../data/hw7"
   ]
  },
  {
   "cell_type": "code",
   "execution_count": 15,
   "metadata": {
    "ExecuteTime": {
     "end_time": "2020-05-15T03:05:01.559486Z",
     "start_time": "2020-05-15T03:04:57.136572Z"
    }
   },
   "outputs": [],
   "source": [
    "X_train = np.loadtxt(\"../../data/hw7/HAPT Data Set/Train/X_train.txt\")\n",
    "y_train = np.loadtxt(\"../../data/hw7/HAPT Data Set/Train/y_train.txt\").astype(int)\n",
    "\n",
    "X_test = np.loadtxt(\"../../data/hw7/HAPT Data Set/Test/X_test.txt\")\n",
    "y_test = np.loadtxt(\"../../data/hw7/HAPT Data Set/Test/y_test.txt\").astype(int)"
   ]
  },
  {
   "cell_type": "code",
   "execution_count": 16,
   "metadata": {
    "ExecuteTime": {
     "end_time": "2020-05-15T03:05:01.565884Z",
     "start_time": "2020-05-15T03:05:01.561148Z"
    }
   },
   "outputs": [
    {
     "name": "stdout",
     "output_type": "stream",
     "text": [
      "X_train.shape: (7767, 561)\n",
      "y_train.shape: (7767,)\n",
      "X_test.shape: (3162, 561)\n",
      "y_test.shape: (3162,)\n"
     ]
    }
   ],
   "source": [
    "print(\"X_train.shape:\",X_train.shape)\n",
    "print(\"y_train.shape:\",y_train.shape)\n",
    "print(\"X_test.shape:\", X_test.shape)\n",
    "print(\"y_test.shape:\", y_test.shape)"
   ]
  },
  {
   "cell_type": "markdown",
   "metadata": {},
   "source": [
    "For clustering, we do not need a target vector, so we'll work with the combination of training and test samples. Merge * X_train * with * X_test *, and * y_train * with * y_test *."
   ]
  },
  {
   "cell_type": "code",
   "execution_count": 17,
   "metadata": {
    "ExecuteTime": {
     "end_time": "2020-05-15T03:05:01.673849Z",
     "start_time": "2020-05-15T03:05:01.567770Z"
    },
    "jupyter": {
     "outputs_hidden": true
    },
    "scrolled": true
   },
   "outputs": [
    {
     "name": "stdout",
     "output_type": "stream",
     "text": [
      "X.shape (10929, 561)\n",
      "y.shape (10929,)\n"
     ]
    }
   ],
   "source": [
    "# Your code here\n",
    "X = np.concatenate([X_train, X_test])\n",
    "y = np.concatenate([y_train, y_test])\n",
    "print(\"X.shape\", X.shape)\n",
    "print(\"y.shape\", y.shape)"
   ]
  },
  {
   "cell_type": "markdown",
   "metadata": {},
   "source": [
    "Define the number of unique values of the labels of the target class."
   ]
  },
  {
   "cell_type": "code",
   "execution_count": 18,
   "metadata": {
    "ExecuteTime": {
     "end_time": "2020-05-15T03:05:01.701375Z",
     "start_time": "2020-05-15T03:05:01.676748Z"
    }
   },
   "outputs": [
    {
     "data": {
      "text/plain": [
       "array([ 1,  2,  3,  4,  5,  6,  7,  8,  9, 10, 11, 12])"
      ]
     },
     "execution_count": 18,
     "metadata": {},
     "output_type": "execute_result"
    }
   ],
   "source": [
    "np.unique(y)"
   ]
  },
  {
   "cell_type": "code",
   "execution_count": 19,
   "metadata": {
    "ExecuteTime": {
     "end_time": "2020-05-15T03:05:01.758035Z",
     "start_time": "2020-05-15T03:05:01.725630Z"
    },
    "jupyter": {
     "outputs_hidden": true,
     "source_hidden": true
    }
   },
   "outputs": [],
   "source": [
    "n_classes = np.unique(y).size"
   ]
  },
  {
   "cell_type": "markdown",
   "metadata": {},
   "source": [
    "[These labels correspond to:](https://archive.ics.uci.edu/ml/machine-learning-databases/00240/UCI%20HAR%20Dataset.names)\n",
    "- 1 WALKING           \n",
    "- 2 WALKING_UPSTAIRS  \n",
    "- 3 WALKING_DOWNSTAIRS\n",
    "- 4 SITTING           \n",
    "- 5 STANDING          \n",
    "- 6 LAYING            \n",
    "- 7 STAND_TO_SIT      \n",
    "- 8 SIT_TO_STAND      \n",
    "- 9 SIT_TO_LIE        \n",
    "- 10 LIE_TO_SIT        \n",
    "- 11 STAND_TO_LIE      \n",
    "- 12 LIE_TO_STAND  "
   ]
  },
  {
   "cell_type": "markdown",
   "metadata": {},
   "source": [
    "Scale the sample using `StandardScaler` with default parameters."
   ]
  },
  {
   "cell_type": "code",
   "execution_count": 20,
   "metadata": {
    "ExecuteTime": {
     "end_time": "2020-05-15T03:05:04.212689Z",
     "start_time": "2020-05-15T03:05:04.071486Z"
    },
    "jupyter": {
     "outputs_hidden": true
    }
   },
   "outputs": [],
   "source": [
    "# Your code here\n",
    "from sklearn.preprocessing import StandardScaler\n",
    "scaler = StandardScaler()\n",
    "X_scaled = scaler.fit_transform(X)"
   ]
  },
  {
   "cell_type": "markdown",
   "metadata": {},
   "source": [
    "Reduce the number of dimensions using PCA, leaving as many components as necessary to explain at least 90% of the variance of the original (scaled) data. Use the scaled sample and fix the random_state (RANDOM_STATE constant)."
   ]
  },
  {
   "cell_type": "code",
   "execution_count": 21,
   "metadata": {
    "ExecuteTime": {
     "end_time": "2020-05-15T03:05:06.533960Z",
     "start_time": "2020-05-15T03:05:06.265963Z"
    },
    "jupyter": {
     "outputs_hidden": true
    }
   },
   "outputs": [],
   "source": [
    "from sklearn import decomposition\n",
    "pca = decomposition.PCA(n_components=65, random_state=RANDOM_STATE)\n",
    "X_pca = pca.fit_transform(X_scaled)"
   ]
  },
  {
   "cell_type": "markdown",
   "metadata": {},
   "source": [
    "** Question 1: ** <br>\n",
    "What is the minimum number of main components required to cover the 90% of the variance of the original (scaled) data?"
   ]
  },
  {
   "cell_type": "code",
   "execution_count": 22,
   "metadata": {
    "ExecuteTime": {
     "end_time": "2020-05-15T03:05:08.683831Z",
     "start_time": "2020-05-15T03:05:08.014105Z"
    }
   },
   "outputs": [
    {
     "data": {
      "image/png": "[encoded data removed]",
      "text/plain": [
       "<Figure size 720x504 with 1 Axes>"
      ]
     },
     "metadata": {},
     "output_type": "display_data"
    }
   ],
   "source": [
    "from sklearn import decomposition\n",
    "pca = decomposition.PCA().fit(X_scaled)\n",
    "\n",
    "plt.figure(figsize=(10,7))\n",
    "plt.plot(np.cumsum(pca.explained_variance_ratio_), color='k', lw=2)\n",
    "plt.xlabel('Number of components')\n",
    "plt.ylabel('Total explained variance')\n",
    "plt.xlim(0, 200)\n",
    "plt.yticks(np.arange(0, 1.1, 0.1))\n",
    "plt.axvline(65, c='b')\n",
    "plt.axhline(0.9, c='r')\n",
    "plt.show();"
   ]
  },
  {
   "cell_type": "markdown",
   "metadata": {},
   "source": [
    "**Answer options:**\n",
    "- 56 \n",
    "- 65\n",
    "- 66\n",
    "- 193"
   ]
  },
  {
   "cell_type": "markdown",
   "metadata": {},
   "source": [
    "#### ANSWER: 65"
   ]
  },
  {
   "cell_type": "markdown",
   "metadata": {},
   "source": [
    "**Вопрос 2:**<br>\n",
    "What percentage of the variance is covered by the first main component? Round to the nearest percent.\n",
    "\n",
    "**Answer options:**\n",
    "- 45\n",
    "- 51\n",
    "- 56\n",
    "- 61"
   ]
  },
  {
   "cell_type": "code",
   "execution_count": 23,
   "metadata": {
    "ExecuteTime": {
     "end_time": "2020-05-15T03:05:15.047950Z",
     "start_time": "2020-05-15T03:05:14.978485Z"
    }
   },
   "outputs": [
    {
     "name": "stdout",
     "output_type": "stream",
     "text": [
      "1 component: 48.02% of initial variance\n",
      "2 component: 7.9% of initial variance\n",
      "3 component: 3.1% of initial variance\n",
      "4 component: 2.42% of initial variance\n",
      "5 component: 1.81% of initial variance\n",
      "6 component: 1.63% of initial variance\n",
      "7 component: 1.37% of initial variance\n",
      "8 component: 1.32% of initial variance\n",
      "9 component: 1.13% of initial variance\n",
      "10 component: 0.95% of initial variance\n",
      "11 component: 0.91% of initial variance\n",
      "12 component: 0.82% of initial variance\n",
      "13 component: 0.79% of initial variance\n",
      "14 component: 0.73% of initial variance\n",
      "15 component: 0.68% of initial variance\n",
      "16 component: 0.63% of initial variance\n",
      "17 component: 0.61% of initial variance\n",
      "18 component: 0.59% of initial variance\n",
      "19 component: 0.57% of initial variance\n",
      "20 component: 0.56% of initial variance\n",
      "21 component: 0.54% of initial variance\n",
      "22 component: 0.53% of initial variance\n",
      "23 component: 0.49% of initial variance\n",
      "24 component: 0.48% of initial variance\n",
      "25 component: 0.45% of initial variance\n",
      "26 component: 0.44% of initial variance\n",
      "27 component: 0.43% of initial variance\n",
      "28 component: 0.41% of initial variance\n",
      "29 component: 0.4% of initial variance\n",
      "30 component: 0.39% of initial variance\n",
      "31 component: 0.38% of initial variance\n",
      "32 component: 0.36% of initial variance\n",
      "33 component: 0.36% of initial variance\n",
      "34 component: 0.35% of initial variance\n",
      "35 component: 0.34% of initial variance\n",
      "36 component: 0.33% of initial variance\n",
      "37 component: 0.33% of initial variance\n",
      "38 component: 0.31% of initial variance\n",
      "39 component: 0.3% of initial variance\n",
      "40 component: 0.29% of initial variance\n",
      "41 component: 0.28% of initial variance\n",
      "42 component: 0.28% of initial variance\n",
      "43 component: 0.27% of initial variance\n",
      "44 component: 0.26% of initial variance\n",
      "45 component: 0.25% of initial variance\n",
      "46 component: 0.25% of initial variance\n",
      "47 component: 0.24% of initial variance\n",
      "48 component: 0.24% of initial variance\n",
      "49 component: 0.23% of initial variance\n",
      "50 component: 0.23% of initial variance\n",
      "51 component: 0.22% of initial variance\n",
      "52 component: 0.22% of initial variance\n",
      "53 component: 0.21% of initial variance\n",
      "54 component: 0.21% of initial variance\n",
      "55 component: 0.21% of initial variance\n",
      "56 component: 0.2% of initial variance\n",
      "57 component: 0.2% of initial variance\n",
      "58 component: 0.2% of initial variance\n",
      "59 component: 0.19% of initial variance\n",
      "60 component: 0.19% of initial variance\n",
      "61 component: 0.18% of initial variance\n",
      "62 component: 0.18% of initial variance\n",
      "63 component: 0.18% of initial variance\n",
      "64 component: 0.18% of initial variance\n",
      "65 component: 0.17% of initial variance\n",
      "66 component: 0.17% of initial variance\n",
      "67 component: 0.17% of initial variance\n",
      "68 component: 0.17% of initial variance\n",
      "69 component: 0.16% of initial variance\n",
      "70 component: 0.16% of initial variance\n",
      "71 component: 0.16% of initial variance\n",
      "72 component: 0.16% of initial variance\n",
      "73 component: 0.15% of initial variance\n",
      "74 component: 0.15% of initial variance\n",
      "75 component: 0.15% of initial variance\n",
      "76 component: 0.15% of initial variance\n",
      "77 component: 0.14% of initial variance\n",
      "78 component: 0.14% of initial variance\n",
      "79 component: 0.14% of initial variance\n",
      "80 component: 0.14% of initial variance\n",
      "81 component: 0.13% of initial variance\n",
      "82 component: 0.13% of initial variance\n",
      "83 component: 0.13% of initial variance\n",
      "84 component: 0.13% of initial variance\n",
      "85 component: 0.13% of initial variance\n",
      "86 component: 0.12% of initial variance\n",
      "87 component: 0.12% of initial variance\n",
      "88 component: 0.12% of initial variance\n",
      "89 component: 0.12% of initial variance\n",
      "90 component: 0.12% of initial variance\n",
      "91 component: 0.11% of initial variance\n",
      "92 component: 0.11% of initial variance\n",
      "93 component: 0.11% of initial variance\n",
      "94 component: 0.11% of initial variance\n",
      "95 component: 0.11% of initial variance\n",
      "96 component: 0.1% of initial variance\n",
      "97 component: 0.1% of initial variance\n",
      "98 component: 0.1% of initial variance\n",
      "99 component: 0.1% of initial variance\n",
      "100 component: 0.1% of initial variance\n",
      "101 component: 0.1% of initial variance\n",
      "102 component: 0.09% of initial variance\n",
      "103 component: 0.09% of initial variance\n",
      "104 component: 0.09% of initial variance\n",
      "105 component: 0.09% of initial variance\n",
      "106 component: 0.09% of initial variance\n",
      "107 component: 0.09% of initial variance\n",
      "108 component: 0.09% of initial variance\n",
      "109 component: 0.09% of initial variance\n",
      "110 component: 0.09% of initial variance\n",
      "111 component: 0.08% of initial variance\n",
      "112 component: 0.08% of initial variance\n",
      "113 component: 0.08% of initial variance\n",
      "114 component: 0.08% of initial variance\n",
      "115 component: 0.08% of initial variance\n",
      "116 component: 0.08% of initial variance\n",
      "117 component: 0.07% of initial variance\n",
      "118 component: 0.07% of initial variance\n",
      "119 component: 0.07% of initial variance\n",
      "120 component: 0.07% of initial variance\n",
      "121 component: 0.07% of initial variance\n",
      "122 component: 0.07% of initial variance\n",
      "123 component: 0.07% of initial variance\n",
      "124 component: 0.07% of initial variance\n",
      "125 component: 0.06% of initial variance\n",
      "126 component: 0.06% of initial variance\n",
      "127 component: 0.06% of initial variance\n",
      "128 component: 0.06% of initial variance\n",
      "129 component: 0.06% of initial variance\n",
      "130 component: 0.06% of initial variance\n",
      "131 component: 0.06% of initial variance\n",
      "132 component: 0.06% of initial variance\n",
      "133 component: 0.06% of initial variance\n",
      "134 component: 0.06% of initial variance\n",
      "135 component: 0.06% of initial variance\n",
      "136 component: 0.05% of initial variance\n",
      "137 component: 0.05% of initial variance\n",
      "138 component: 0.05% of initial variance\n",
      "139 component: 0.05% of initial variance\n",
      "140 component: 0.05% of initial variance\n",
      "141 component: 0.05% of initial variance\n",
      "142 component: 0.05% of initial variance\n",
      "143 component: 0.05% of initial variance\n",
      "144 component: 0.05% of initial variance\n",
      "145 component: 0.05% of initial variance\n",
      "146 component: 0.05% of initial variance\n",
      "147 component: 0.05% of initial variance\n",
      "148 component: 0.05% of initial variance\n",
      "149 component: 0.04% of initial variance\n",
      "150 component: 0.04% of initial variance\n",
      "151 component: 0.04% of initial variance\n",
      "152 component: 0.04% of initial variance\n",
      "153 component: 0.04% of initial variance\n",
      "154 component: 0.04% of initial variance\n",
      "155 component: 0.04% of initial variance\n",
      "156 component: 0.04% of initial variance\n",
      "157 component: 0.04% of initial variance\n",
      "158 component: 0.04% of initial variance\n",
      "159 component: 0.04% of initial variance\n",
      "160 component: 0.04% of initial variance\n",
      "161 component: 0.04% of initial variance\n",
      "162 component: 0.04% of initial variance\n",
      "163 component: 0.04% of initial variance\n",
      "164 component: 0.04% of initial variance\n",
      "165 component: 0.04% of initial variance\n",
      "166 component: 0.03% of initial variance\n",
      "167 component: 0.03% of initial variance\n",
      "168 component: 0.03% of initial variance\n",
      "169 component: 0.03% of initial variance\n",
      "170 component: 0.03% of initial variance\n",
      "171 component: 0.03% of initial variance\n",
      "172 component: 0.03% of initial variance\n",
      "173 component: 0.03% of initial variance\n",
      "174 component: 0.03% of initial variance\n",
      "175 component: 0.03% of initial variance\n",
      "176 component: 0.03% of initial variance\n",
      "177 component: 0.03% of initial variance\n",
      "178 component: 0.02% of initial variance\n",
      "179 component: 0.02% of initial variance\n",
      "180 component: 0.02% of initial variance\n",
      "181 component: 0.02% of initial variance\n",
      "182 component: 0.02% of initial variance\n",
      "183 component: 0.02% of initial variance\n",
      "184 component: 0.02% of initial variance\n",
      "185 component: 0.02% of initial variance\n",
      "186 component: 0.02% of initial variance\n",
      "187 component: 0.02% of initial variance\n",
      "188 component: 0.02% of initial variance\n",
      "189 component: 0.02% of initial variance\n",
      "190 component: 0.02% of initial variance\n",
      "191 component: 0.02% of initial variance\n",
      "192 component: 0.02% of initial variance\n",
      "193 component: 0.02% of initial variance\n",
      "194 component: 0.02% of initial variance\n",
      "195 component: 0.02% of initial variance\n",
      "196 component: 0.02% of initial variance\n",
      "197 component: 0.02% of initial variance\n",
      "198 component: 0.02% of initial variance\n",
      "199 component: 0.02% of initial variance\n",
      "200 component: 0.01% of initial variance\n",
      "201 component: 0.01% of initial variance\n",
      "202 component: 0.01% of initial variance\n",
      "203 component: 0.01% of initial variance\n",
      "204 component: 0.01% of initial variance\n",
      "205 component: 0.01% of initial variance\n",
      "206 component: 0.01% of initial variance\n",
      "207 component: 0.01% of initial variance\n",
      "208 component: 0.01% of initial variance\n",
      "209 component: 0.01% of initial variance\n",
      "210 component: 0.01% of initial variance\n",
      "211 component: 0.01% of initial variance\n",
      "212 component: 0.01% of initial variance\n",
      "213 component: 0.01% of initial variance\n",
      "214 component: 0.01% of initial variance\n",
      "215 component: 0.01% of initial variance\n",
      "216 component: 0.01% of initial variance\n",
      "217 component: 0.01% of initial variance\n",
      "218 component: 0.01% of initial variance\n",
      "219 component: 0.01% of initial variance\n",
      "220 component: 0.01% of initial variance\n",
      "221 component: 0.01% of initial variance\n",
      "222 component: 0.01% of initial variance\n",
      "223 component: 0.01% of initial variance\n",
      "224 component: 0.01% of initial variance\n",
      "225 component: 0.01% of initial variance\n",
      "226 component: 0.01% of initial variance\n",
      "227 component: 0.01% of initial variance\n",
      "228 component: 0.01% of initial variance\n",
      "229 component: 0.01% of initial variance\n",
      "230 component: 0.01% of initial variance\n",
      "231 component: 0.01% of initial variance\n",
      "232 component: 0.01% of initial variance\n",
      "233 component: 0.01% of initial variance\n",
      "234 component: 0.01% of initial variance\n",
      "235 component: 0.01% of initial variance\n",
      "236 component: 0.01% of initial variance\n",
      "237 component: 0.01% of initial variance\n",
      "238 component: 0.01% of initial variance\n",
      "239 component: 0.01% of initial variance\n",
      "240 component: 0.01% of initial variance\n",
      "241 component: 0.01% of initial variance\n",
      "242 component: 0.01% of initial variance\n",
      "243 component: 0.01% of initial variance\n",
      "244 component: 0.01% of initial variance\n",
      "245 component: 0.01% of initial variance\n",
      "246 component: 0.01% of initial variance\n",
      "247 component: 0.01% of initial variance\n",
      "248 component: 0.01% of initial variance\n",
      "249 component: 0.01% of initial variance\n",
      "250 component: 0.01% of initial variance\n",
      "251 component: 0.01% of initial variance\n",
      "252 component: 0.01% of initial variance\n",
      "253 component: 0.01% of initial variance\n",
      "254 component: 0.01% of initial variance\n",
      "255 component: 0.01% of initial variance\n",
      "256 component: 0.0% of initial variance\n",
      "257 component: 0.0% of initial variance\n",
      "258 component: 0.0% of initial variance\n",
      "259 component: 0.0% of initial variance\n",
      "260 component: 0.0% of initial variance\n",
      "261 component: 0.0% of initial variance\n",
      "262 component: 0.0% of initial variance\n",
      "263 component: 0.0% of initial variance\n",
      "264 component: 0.0% of initial variance\n",
      "265 component: 0.0% of initial variance\n",
      "266 component: 0.0% of initial variance\n",
      "267 component: 0.0% of initial variance\n",
      "268 component: 0.0% of initial variance\n",
      "269 component: 0.0% of initial variance\n",
      "270 component: 0.0% of initial variance\n",
      "271 component: 0.0% of initial variance\n",
      "272 component: 0.0% of initial variance\n",
      "273 component: 0.0% of initial variance\n",
      "274 component: 0.0% of initial variance\n",
      "275 component: 0.0% of initial variance\n",
      "276 component: 0.0% of initial variance\n",
      "277 component: 0.0% of initial variance\n",
      "278 component: 0.0% of initial variance\n",
      "279 component: 0.0% of initial variance\n",
      "280 component: 0.0% of initial variance\n",
      "281 component: 0.0% of initial variance\n",
      "282 component: 0.0% of initial variance\n",
      "283 component: 0.0% of initial variance\n",
      "284 component: 0.0% of initial variance\n",
      "285 component: 0.0% of initial variance\n",
      "286 component: 0.0% of initial variance\n",
      "287 component: 0.0% of initial variance\n",
      "288 component: 0.0% of initial variance\n",
      "289 component: 0.0% of initial variance\n",
      "290 component: 0.0% of initial variance\n",
      "291 component: 0.0% of initial variance\n",
      "292 component: 0.0% of initial variance\n",
      "293 component: 0.0% of initial variance\n",
      "294 component: 0.0% of initial variance\n",
      "295 component: 0.0% of initial variance\n",
      "296 component: 0.0% of initial variance\n",
      "297 component: 0.0% of initial variance\n",
      "298 component: 0.0% of initial variance\n",
      "299 component: 0.0% of initial variance\n",
      "300 component: 0.0% of initial variance\n",
      "301 component: 0.0% of initial variance\n",
      "302 component: 0.0% of initial variance\n",
      "303 component: 0.0% of initial variance\n",
      "304 component: 0.0% of initial variance\n",
      "305 component: 0.0% of initial variance\n",
      "306 component: 0.0% of initial variance\n",
      "307 component: 0.0% of initial variance\n",
      "308 component: 0.0% of initial variance\n",
      "309 component: 0.0% of initial variance\n",
      "310 component: 0.0% of initial variance\n",
      "311 component: 0.0% of initial variance\n",
      "312 component: 0.0% of initial variance\n",
      "313 component: 0.0% of initial variance\n",
      "314 component: 0.0% of initial variance\n",
      "315 component: 0.0% of initial variance\n",
      "316 component: 0.0% of initial variance\n",
      "317 component: 0.0% of initial variance\n",
      "318 component: 0.0% of initial variance\n",
      "319 component: 0.0% of initial variance\n",
      "320 component: 0.0% of initial variance\n",
      "321 component: 0.0% of initial variance\n",
      "322 component: 0.0% of initial variance\n",
      "323 component: 0.0% of initial variance\n",
      "324 component: 0.0% of initial variance\n",
      "325 component: 0.0% of initial variance\n",
      "326 component: 0.0% of initial variance\n",
      "327 component: 0.0% of initial variance\n",
      "328 component: 0.0% of initial variance\n",
      "329 component: 0.0% of initial variance\n",
      "330 component: 0.0% of initial variance\n",
      "331 component: 0.0% of initial variance\n",
      "332 component: 0.0% of initial variance\n",
      "333 component: 0.0% of initial variance\n",
      "334 component: 0.0% of initial variance\n",
      "335 component: 0.0% of initial variance\n",
      "336 component: 0.0% of initial variance\n",
      "337 component: 0.0% of initial variance\n",
      "338 component: 0.0% of initial variance\n",
      "339 component: 0.0% of initial variance\n",
      "340 component: 0.0% of initial variance\n",
      "341 component: 0.0% of initial variance\n",
      "342 component: 0.0% of initial variance\n",
      "343 component: 0.0% of initial variance\n",
      "344 component: 0.0% of initial variance\n",
      "345 component: 0.0% of initial variance\n",
      "346 component: 0.0% of initial variance\n",
      "347 component: 0.0% of initial variance\n",
      "348 component: 0.0% of initial variance\n",
      "349 component: 0.0% of initial variance\n",
      "350 component: 0.0% of initial variance\n",
      "351 component: 0.0% of initial variance\n",
      "352 component: 0.0% of initial variance\n",
      "353 component: 0.0% of initial variance\n",
      "354 component: 0.0% of initial variance\n",
      "355 component: 0.0% of initial variance\n",
      "356 component: 0.0% of initial variance\n",
      "357 component: 0.0% of initial variance\n",
      "358 component: 0.0% of initial variance\n",
      "359 component: 0.0% of initial variance\n",
      "360 component: 0.0% of initial variance\n",
      "361 component: 0.0% of initial variance\n",
      "362 component: 0.0% of initial variance\n",
      "363 component: 0.0% of initial variance\n",
      "364 component: 0.0% of initial variance\n",
      "365 component: 0.0% of initial variance\n",
      "366 component: 0.0% of initial variance\n",
      "367 component: 0.0% of initial variance\n",
      "368 component: 0.0% of initial variance\n",
      "369 component: 0.0% of initial variance\n",
      "370 component: 0.0% of initial variance\n",
      "371 component: 0.0% of initial variance\n",
      "372 component: 0.0% of initial variance\n",
      "373 component: 0.0% of initial variance\n",
      "374 component: 0.0% of initial variance\n",
      "375 component: 0.0% of initial variance\n",
      "376 component: 0.0% of initial variance\n",
      "377 component: 0.0% of initial variance\n",
      "378 component: 0.0% of initial variance\n",
      "379 component: 0.0% of initial variance\n",
      "380 component: 0.0% of initial variance\n",
      "381 component: 0.0% of initial variance\n",
      "382 component: 0.0% of initial variance\n",
      "383 component: 0.0% of initial variance\n",
      "384 component: 0.0% of initial variance\n",
      "385 component: 0.0% of initial variance\n",
      "386 component: 0.0% of initial variance\n",
      "387 component: 0.0% of initial variance\n",
      "388 component: 0.0% of initial variance\n",
      "389 component: 0.0% of initial variance\n",
      "390 component: 0.0% of initial variance\n",
      "391 component: 0.0% of initial variance\n",
      "392 component: 0.0% of initial variance\n",
      "393 component: 0.0% of initial variance\n",
      "394 component: 0.0% of initial variance\n",
      "395 component: 0.0% of initial variance\n",
      "396 component: 0.0% of initial variance\n",
      "397 component: 0.0% of initial variance\n",
      "398 component: 0.0% of initial variance\n",
      "399 component: 0.0% of initial variance\n",
      "400 component: 0.0% of initial variance\n",
      "401 component: 0.0% of initial variance\n",
      "402 component: 0.0% of initial variance\n",
      "403 component: 0.0% of initial variance\n",
      "404 component: 0.0% of initial variance\n",
      "405 component: 0.0% of initial variance\n",
      "406 component: 0.0% of initial variance\n",
      "407 component: 0.0% of initial variance\n",
      "408 component: 0.0% of initial variance\n",
      "409 component: 0.0% of initial variance\n",
      "410 component: 0.0% of initial variance\n",
      "411 component: 0.0% of initial variance\n",
      "412 component: 0.0% of initial variance\n",
      "413 component: 0.0% of initial variance\n",
      "414 component: 0.0% of initial variance\n",
      "415 component: 0.0% of initial variance\n",
      "416 component: 0.0% of initial variance\n",
      "417 component: 0.0% of initial variance\n",
      "418 component: 0.0% of initial variance\n",
      "419 component: 0.0% of initial variance\n",
      "420 component: 0.0% of initial variance\n",
      "421 component: 0.0% of initial variance\n",
      "422 component: 0.0% of initial variance\n",
      "423 component: 0.0% of initial variance\n",
      "424 component: 0.0% of initial variance\n",
      "425 component: 0.0% of initial variance\n",
      "426 component: 0.0% of initial variance\n",
      "427 component: 0.0% of initial variance\n",
      "428 component: 0.0% of initial variance\n",
      "429 component: 0.0% of initial variance\n",
      "430 component: 0.0% of initial variance\n",
      "431 component: 0.0% of initial variance\n",
      "432 component: 0.0% of initial variance\n",
      "433 component: 0.0% of initial variance\n",
      "434 component: 0.0% of initial variance\n",
      "435 component: 0.0% of initial variance\n",
      "436 component: 0.0% of initial variance\n",
      "437 component: 0.0% of initial variance\n",
      "438 component: 0.0% of initial variance\n",
      "439 component: 0.0% of initial variance\n",
      "440 component: 0.0% of initial variance\n",
      "441 component: 0.0% of initial variance\n",
      "442 component: 0.0% of initial variance\n",
      "443 component: 0.0% of initial variance\n",
      "444 component: 0.0% of initial variance\n",
      "445 component: 0.0% of initial variance\n",
      "446 component: 0.0% of initial variance\n",
      "447 component: 0.0% of initial variance\n",
      "448 component: 0.0% of initial variance\n",
      "449 component: 0.0% of initial variance\n",
      "450 component: 0.0% of initial variance\n",
      "451 component: 0.0% of initial variance\n",
      "452 component: 0.0% of initial variance\n",
      "453 component: 0.0% of initial variance\n",
      "454 component: 0.0% of initial variance\n",
      "455 component: 0.0% of initial variance\n",
      "456 component: 0.0% of initial variance\n",
      "457 component: 0.0% of initial variance\n",
      "458 component: 0.0% of initial variance\n",
      "459 component: 0.0% of initial variance\n",
      "460 component: 0.0% of initial variance\n",
      "461 component: 0.0% of initial variance\n",
      "462 component: 0.0% of initial variance\n",
      "463 component: 0.0% of initial variance\n",
      "464 component: 0.0% of initial variance\n",
      "465 component: 0.0% of initial variance\n",
      "466 component: 0.0% of initial variance\n",
      "467 component: 0.0% of initial variance\n",
      "468 component: 0.0% of initial variance\n",
      "469 component: 0.0% of initial variance\n",
      "470 component: 0.0% of initial variance\n",
      "471 component: 0.0% of initial variance\n",
      "472 component: 0.0% of initial variance\n",
      "473 component: 0.0% of initial variance\n",
      "474 component: 0.0% of initial variance\n",
      "475 component: 0.0% of initial variance\n",
      "476 component: 0.0% of initial variance\n",
      "477 component: 0.0% of initial variance\n",
      "478 component: 0.0% of initial variance\n",
      "479 component: 0.0% of initial variance\n",
      "480 component: 0.0% of initial variance\n",
      "481 component: 0.0% of initial variance\n",
      "482 component: 0.0% of initial variance\n",
      "483 component: 0.0% of initial variance\n",
      "484 component: 0.0% of initial variance\n",
      "485 component: 0.0% of initial variance\n",
      "486 component: 0.0% of initial variance\n",
      "487 component: 0.0% of initial variance\n",
      "488 component: 0.0% of initial variance\n",
      "489 component: 0.0% of initial variance\n",
      "490 component: 0.0% of initial variance\n",
      "491 component: 0.0% of initial variance\n",
      "492 component: 0.0% of initial variance\n",
      "493 component: 0.0% of initial variance\n",
      "494 component: 0.0% of initial variance\n",
      "495 component: 0.0% of initial variance\n",
      "496 component: 0.0% of initial variance\n",
      "497 component: 0.0% of initial variance\n",
      "498 component: 0.0% of initial variance\n",
      "499 component: 0.0% of initial variance\n",
      "500 component: 0.0% of initial variance\n",
      "501 component: 0.0% of initial variance\n",
      "502 component: 0.0% of initial variance\n",
      "503 component: 0.0% of initial variance\n",
      "504 component: 0.0% of initial variance\n",
      "505 component: 0.0% of initial variance\n",
      "506 component: 0.0% of initial variance\n",
      "507 component: 0.0% of initial variance\n",
      "508 component: 0.0% of initial variance\n",
      "509 component: 0.0% of initial variance\n",
      "510 component: 0.0% of initial variance\n",
      "511 component: 0.0% of initial variance\n",
      "512 component: 0.0% of initial variance\n",
      "513 component: 0.0% of initial variance\n",
      "514 component: 0.0% of initial variance\n",
      "515 component: 0.0% of initial variance\n",
      "516 component: 0.0% of initial variance\n",
      "517 component: 0.0% of initial variance\n",
      "518 component: 0.0% of initial variance\n",
      "519 component: 0.0% of initial variance\n",
      "520 component: 0.0% of initial variance\n",
      "521 component: 0.0% of initial variance\n",
      "522 component: 0.0% of initial variance\n",
      "523 component: 0.0% of initial variance\n",
      "524 component: 0.0% of initial variance\n",
      "525 component: 0.0% of initial variance\n",
      "526 component: 0.0% of initial variance\n",
      "527 component: 0.0% of initial variance\n",
      "528 component: 0.0% of initial variance\n",
      "529 component: 0.0% of initial variance\n",
      "530 component: 0.0% of initial variance\n",
      "531 component: 0.0% of initial variance\n",
      "532 component: 0.0% of initial variance\n",
      "533 component: 0.0% of initial variance\n",
      "534 component: 0.0% of initial variance\n",
      "535 component: 0.0% of initial variance\n",
      "536 component: 0.0% of initial variance\n",
      "537 component: 0.0% of initial variance\n",
      "538 component: 0.0% of initial variance\n",
      "539 component: 0.0% of initial variance\n",
      "540 component: 0.0% of initial variance\n",
      "541 component: 0.0% of initial variance\n",
      "542 component: 0.0% of initial variance\n",
      "543 component: 0.0% of initial variance\n",
      "544 component: 0.0% of initial variance\n",
      "545 component: 0.0% of initial variance\n",
      "546 component: 0.0% of initial variance\n",
      "547 component: 0.0% of initial variance\n",
      "548 component: 0.0% of initial variance\n",
      "549 component: 0.0% of initial variance\n",
      "550 component: 0.0% of initial variance\n",
      "551 component: 0.0% of initial variance\n",
      "552 component: 0.0% of initial variance\n",
      "553 component: 0.0% of initial variance\n",
      "554 component: 0.0% of initial variance\n",
      "555 component: 0.0% of initial variance\n",
      "556 component: 0.0% of initial variance\n",
      "557 component: 0.0% of initial variance\n",
      "558 component: 0.0% of initial variance\n",
      "559 component: 0.0% of initial variance\n",
      "560 component: 0.0% of initial variance\n",
      "561 component: 0.0% of initial variance\n"
     ]
    }
   ],
   "source": [
    "for i, component in enumerate(pca.components_):\n",
    "    print(\"{} component: {}% of initial variance\".format(i + 1, round(100 * pca.explained_variance_ratio_[i], 2)))"
   ]
  },
  {
   "cell_type": "markdown",
   "metadata": {},
   "source": [
    "#### ANSWER: 45"
   ]
  },
  {
   "cell_type": "markdown",
   "metadata": {},
   "source": [
    "Visualize the data in the projection on the first two main components."
   ]
  },
  {
   "cell_type": "code",
   "execution_count": 24,
   "metadata": {
    "ExecuteTime": {
     "end_time": "2020-05-15T03:05:19.075116Z",
     "start_time": "2020-05-15T03:05:18.572419Z"
    }
   },
   "outputs": [
    {
     "name": "stdout",
     "output_type": "stream",
     "text": [
      "Projecting 561-dimensional data to 2D\n"
     ]
    },
    {
     "data": {
      "image/png": "[encoded data removed]",
      "text/plain": [
       "<Figure size 864x720 with 2 Axes>"
      ]
     },
     "metadata": {},
     "output_type": "display_data"
    }
   ],
   "source": [
    "print('Projecting %d-dimensional data to 2D' % X.shape[1])\n",
    "\n",
    "plt.figure(figsize=(12,10))\n",
    "plt.scatter(X_pca[:, 0], X_pca[:, 1], c=y, s=20, cmap='viridis');\n",
    "plt.colorbar()\n",
    "plt.title('PCA projection');"
   ]
  },
  {
   "cell_type": "markdown",
   "metadata": {},
   "source": [
    "**Question 3:**<br>\n",
    "If everything worked out correctly, you will see a number of clusters, almost perfectly separated from each other. What types of activity are included in these clusters? <br>\n",
    "\n",
    "**Answer options:**\n",
    "- 1 cluster: all 12 activities\n",
    "- 2 clusters: \n",
    "- 3 clusters: \n",
    "- 5 clusters\n",
    "- 12 clusters"
   ]
  },
  {
   "cell_type": "markdown",
   "metadata": {},
   "source": [
    "#### ANSWER: 3 Clusters"
   ]
  },
  {
   "cell_type": "markdown",
   "metadata": {},
   "source": [
    "##### Reasoning: \n",
    "    1 WALKING\n",
    "    2 WALKING_UPSTAIRS\n",
    "    3 WALKING_DOWNSTAIRS\n",
    "    4 SITTING\n",
    "    5 STANDING\n",
    "    6 LAYING\n",
    "    7 STAND_TO_SIT\n",
    "    8 SIT_TO_STAND\n",
    "    9 SIT_TO_LIE\n",
    "    10 LIE_TO_SIT\n",
    "    11 STAND_TO_LIE\n",
    "    12 LIE_TO_STAND\n",
    "The first 3 activities seem to be in one cluster, 4-6 in the second cluster and 7-12 in the third cluster\n",
    "  \n"
   ]
  },
  {
   "cell_type": "markdown",
   "metadata": {},
   "source": [
    "Run the data clustering using the `KMeans` method, training the model on data with a reduced PCA dimension. In this case, we will give a clue to look for exactly 6 clusters, but in general case we will not know how many clusters we should be searching.\n",
    "\n",
    "Options:\n",
    "\n",
    "- **n_clusters** = n_classes (number of unique labels of the target class)\n",
    "- **n_init** = 100\n",
    "- **random_state** = RANDOM_STATE (for the reproducibility of the result)\n",
    "\n",
    "Other parameters should have default values."
   ]
  },
  {
   "cell_type": "code",
   "execution_count": 56,
   "metadata": {
    "jupyter": {
     "outputs_hidden": true
    }
   },
   "outputs": [],
   "source": [
    "from sklearn.cluster import KMeans\n",
    "kmeans = KMeans(n_clusters=6, n_init=100, random_state=RANDOM_STATE).fit(X_pca)\n",
    "cluster_labels = kmeans.labels_"
   ]
  },
  {
   "cell_type": "markdown",
   "metadata": {},
   "source": [
    "Visualize the data in the projection on the first two main components. Color the dots according to the clusters received."
   ]
  },
  {
   "cell_type": "code",
   "execution_count": 57,
   "metadata": {},
   "outputs": [
    {
     "name": "stdout",
     "output_type": "stream",
     "text": [
      "Projecting 561-dimensional data to 2D\n"
     ]
    },
    {
     "data": {
      "image/png": "[encoded data removed]",
      "text/plain": [
       "<Figure size 864x720 with 2 Axes>"
      ]
     },
     "metadata": {},
     "output_type": "display_data"
    }
   ],
   "source": [
    "print('Projecting %d-dimensional data to 2D' % X.shape[1])\n",
    "\n",
    "plt.figure(figsize=(12,10))\n",
    "plt.scatter(X_pca[:, 0], X_pca[:, 1], c=cluster_labels, s=20, cmap='viridis');\n",
    "plt.colorbar()\n",
    "plt.title('PCA projection of the K-means clustered data');"
   ]
  },
  {
   "cell_type": "markdown",
   "metadata": {},
   "source": [
    "Look at the correspondence between the cluster marks and the original class labels and what kinds of activities the `KMeans` algorithm is confused at."
   ]
  },
  {
   "cell_type": "code",
   "execution_count": 59,
   "metadata": {},
   "outputs": [
    {
     "data": {
      "text/html": [
       "<div>\n",
       "<style scoped>\n",
       "    .dataframe tbody tr th:only-of-type {\n",
       "        vertical-align: middle;\n",
       "    }\n",
       "\n",
       "    .dataframe tbody tr th {\n",
       "        vertical-align: top;\n",
       "    }\n",
       "\n",
       "    .dataframe thead th {\n",
       "        text-align: right;\n",
       "    }\n",
       "</style>\n",
       "<table border=\"1\" class=\"dataframe\">\n",
       "  <thead>\n",
       "    <tr style=\"text-align: right;\">\n",
       "      <th></th>\n",
       "      <th>cluster1</th>\n",
       "      <th>cluster2</th>\n",
       "      <th>cluster3</th>\n",
       "      <th>cluster4</th>\n",
       "      <th>cluster5</th>\n",
       "      <th>cluster6</th>\n",
       "      <th>all</th>\n",
       "    </tr>\n",
       "  </thead>\n",
       "  <tbody>\n",
       "    <tr>\n",
       "      <th>WALKING</th>\n",
       "      <td>0</td>\n",
       "      <td>0</td>\n",
       "      <td>744</td>\n",
       "      <td>898</td>\n",
       "      <td>0</td>\n",
       "      <td>80</td>\n",
       "      <td>1722</td>\n",
       "    </tr>\n",
       "    <tr>\n",
       "      <th>WALKING_UPSTAIRS</th>\n",
       "      <td>0</td>\n",
       "      <td>0</td>\n",
       "      <td>284</td>\n",
       "      <td>1254</td>\n",
       "      <td>0</td>\n",
       "      <td>6</td>\n",
       "      <td>1544</td>\n",
       "    </tr>\n",
       "    <tr>\n",
       "      <th>WALKING_DOWNSTAIRS</th>\n",
       "      <td>0</td>\n",
       "      <td>0</td>\n",
       "      <td>888</td>\n",
       "      <td>321</td>\n",
       "      <td>0</td>\n",
       "      <td>198</td>\n",
       "      <td>1407</td>\n",
       "    </tr>\n",
       "    <tr>\n",
       "      <th>SITTING</th>\n",
       "      <td>717</td>\n",
       "      <td>14</td>\n",
       "      <td>0</td>\n",
       "      <td>1</td>\n",
       "      <td>1069</td>\n",
       "      <td>0</td>\n",
       "      <td>1801</td>\n",
       "    </tr>\n",
       "    <tr>\n",
       "      <th>LAYING</th>\n",
       "      <td>1100</td>\n",
       "      <td>1</td>\n",
       "      <td>0</td>\n",
       "      <td>9</td>\n",
       "      <td>869</td>\n",
       "      <td>0</td>\n",
       "      <td>1979</td>\n",
       "    </tr>\n",
       "    <tr>\n",
       "      <th>STAND_TO_SIT</th>\n",
       "      <td>521</td>\n",
       "      <td>26</td>\n",
       "      <td>0</td>\n",
       "      <td>2</td>\n",
       "      <td>1409</td>\n",
       "      <td>0</td>\n",
       "      <td>1958</td>\n",
       "    </tr>\n",
       "    <tr>\n",
       "      <th>SIT_TO_STAND</th>\n",
       "      <td>1</td>\n",
       "      <td>45</td>\n",
       "      <td>0</td>\n",
       "      <td>23</td>\n",
       "      <td>0</td>\n",
       "      <td>1</td>\n",
       "      <td>70</td>\n",
       "    </tr>\n",
       "    <tr>\n",
       "      <th>SIT_TO_STAND</th>\n",
       "      <td>1</td>\n",
       "      <td>31</td>\n",
       "      <td>0</td>\n",
       "      <td>1</td>\n",
       "      <td>0</td>\n",
       "      <td>0</td>\n",
       "      <td>33</td>\n",
       "    </tr>\n",
       "    <tr>\n",
       "      <th>SIT_TO_LIE</th>\n",
       "      <td>1</td>\n",
       "      <td>106</td>\n",
       "      <td>0</td>\n",
       "      <td>0</td>\n",
       "      <td>0</td>\n",
       "      <td>0</td>\n",
       "      <td>107</td>\n",
       "    </tr>\n",
       "    <tr>\n",
       "      <th>LIE_TO_SIT</th>\n",
       "      <td>1</td>\n",
       "      <td>84</td>\n",
       "      <td>0</td>\n",
       "      <td>0</td>\n",
       "      <td>0</td>\n",
       "      <td>0</td>\n",
       "      <td>85</td>\n",
       "    </tr>\n",
       "    <tr>\n",
       "      <th>STAND_TO_LIE</th>\n",
       "      <td>1</td>\n",
       "      <td>125</td>\n",
       "      <td>1</td>\n",
       "      <td>12</td>\n",
       "      <td>0</td>\n",
       "      <td>0</td>\n",
       "      <td>139</td>\n",
       "    </tr>\n",
       "    <tr>\n",
       "      <th>LIE_TO_STAND</th>\n",
       "      <td>1</td>\n",
       "      <td>81</td>\n",
       "      <td>0</td>\n",
       "      <td>2</td>\n",
       "      <td>0</td>\n",
       "      <td>0</td>\n",
       "      <td>84</td>\n",
       "    </tr>\n",
       "    <tr>\n",
       "      <th>all</th>\n",
       "      <td>2344</td>\n",
       "      <td>513</td>\n",
       "      <td>1917</td>\n",
       "      <td>2523</td>\n",
       "      <td>3347</td>\n",
       "      <td>285</td>\n",
       "      <td>10929</td>\n",
       "    </tr>\n",
       "  </tbody>\n",
       "</table>\n",
       "</div>"
      ],
      "text/plain": [
       "                    cluster1  cluster2  cluster3  cluster4  cluster5  \\\n",
       "WALKING                    0         0       744       898         0   \n",
       "WALKING_UPSTAIRS           0         0       284      1254         0   \n",
       "WALKING_DOWNSTAIRS         0         0       888       321         0   \n",
       "SITTING                  717        14         0         1      1069   \n",
       "LAYING                  1100         1         0         9       869   \n",
       "STAND_TO_SIT             521        26         0         2      1409   \n",
       "SIT_TO_STAND               1        45         0        23         0   \n",
       "SIT_TO_STAND               1        31         0         1         0   \n",
       "SIT_TO_LIE                 1       106         0         0         0   \n",
       " LIE_TO_SIT                1        84         0         0         0   \n",
       "STAND_TO_LIE               1       125         1        12         0   \n",
       "LIE_TO_STAND               1        81         0         2         0   \n",
       "all                     2344       513      1917      2523      3347   \n",
       "\n",
       "                    cluster6    all  \n",
       "WALKING                   80   1722  \n",
       "WALKING_UPSTAIRS           6   1544  \n",
       "WALKING_DOWNSTAIRS       198   1407  \n",
       "SITTING                    0   1801  \n",
       "LAYING                     0   1979  \n",
       "STAND_TO_SIT               0   1958  \n",
       "SIT_TO_STAND               1     70  \n",
       "SIT_TO_STAND               0     33  \n",
       "SIT_TO_LIE                 0    107  \n",
       " LIE_TO_SIT                0     85  \n",
       "STAND_TO_LIE               0    139  \n",
       "LIE_TO_STAND               0     84  \n",
       "all                      285  10929  "
      ]
     },
     "execution_count": 59,
     "metadata": {},
     "output_type": "execute_result"
    }
   ],
   "source": [
    "tab = pd.crosstab(y, cluster_labels, margins=True)\n",
    "tab.index = [\n",
    "    'WALKING', 'WALKING_UPSTAIRS', 'WALKING_DOWNSTAIRS', 'SITTING', 'LAYING',\n",
    "    'STAND_TO_SIT', 'SIT_TO_STAND', 'SIT_TO_STAND', 'SIT_TO_LIE',\n",
    "    ' LIE_TO_SIT', 'STAND_TO_LIE', 'LIE_TO_STAND', 'all'\n",
    "]\n",
    "tab.columns = ['cluster' + str(i + 1) for i in range(6)] + ['all']\n",
    "tab"
   ]
  },
  {
   "cell_type": "markdown",
   "metadata": {},
   "source": [
    "We see that for each class (i.e., each activity) there are several clusters. Let's look at the maximum percentage of objects in a class that are assigned to a single cluster. This will be a simple metric that characterizes how easily the class separates from others when clustering.\n",
    "\n",
    "Example: if for the class of \"WALKING_UPSTAIRS\", in which there are 1544 objects, the distribution of clusters is:\n",
    " - cluster 1 - 0\n",
    " - cluster 2 - 0\n",
    " - cluster 3 - 949\n",
    " -  ....\n",
    " - cluster 12 - 357\n",
    " \n",
    " then such a share will be 949/1544 $ \\ approx $ 0.61.\n",
    "\n",
    "**Question 4:** <br>\n",
    "Which activity has been separated from the rest better than others based on the simple metric described above? <br>\n",
    "\n",
    "**Answer:**\n",
    "- 1 WALKING           \n",
    "- 2 WALKING_UPSTAIRS  \n",
    "- 3 WALKING_DOWNSTAIRS\n",
    "- 4 SITTING           \n",
    "- 5 STANDING          \n",
    "- 6 LAYING            \n",
    "- 7 STAND_TO_SIT      \n",
    "- 8 SIT_TO_STAND      \n",
    "- 9 SIT_TO_LIE        \n",
    "- 10 LIE_TO_SIT        \n",
    "- 11 STAND_TO_LIE      \n",
    "- 12 LIE_TO_STAND  \n",
    "- there is no correct answer"
   ]
  },
  {
   "cell_type": "markdown",
   "metadata": {},
   "source": [
    "#### ANSWER: \n",
    "- WALKING_UPSTAIRS (majority falls in Cluster4)\n",
    "- WALKING_DOWNSTAIRS (Cluster 3)\n",
    "- STAND_TO_SIT (Cluster 5)\n",
    "- SIT_TO_STAND (Cluster 2)\n",
    "- SIT_TO_LIE (Cluster 2)\n",
    "- LIE_TO_SIT (Cluster 2)\n",
    "- STAND_TO_LIE (Cluster 2)\n",
    "- LIE_TO_STAND (Cluster 2)"
   ]
  },
  {
   "cell_type": "markdown",
   "metadata": {},
   "source": [
    "Use the elbow method to select the optimal number of clusters. Parameters of the algorithm and the data we use are the same as before, we change only `n_clusters`."
   ]
  },
  {
   "cell_type": "code",
   "execution_count": 64,
   "metadata": {},
   "outputs": [
    {
     "name": "stderr",
     "output_type": "stream",
     "text": [
      "/home/sethu/anaconda3/lib/python3.7/site-packages/ipykernel_launcher.py:3: TqdmDeprecationWarning: This function will be removed in tqdm==5.0.0\n",
      "Please use `tqdm.notebook.tqdm` instead of `tqdm.tqdm_notebook`\n",
      "  This is separate from the ipykernel package so we can avoid doing imports until\n"
     ]
    },
    {
     "data": {
      "application/vnd.jupyter.widget-view+json": {
       "model_id": "ac998025cb274f158dbbef6ec66167b5",
       "version_major": 2,
       "version_minor": 0
      },
      "text/plain": [
       "HBox(children=(FloatProgress(value=0.0, max=12.0), HTML(value='')))"
      ]
     },
     "metadata": {},
     "output_type": "display_data"
    },
    {
     "name": "stdout",
     "output_type": "stream",
     "text": [
      "\n"
     ]
    }
   ],
   "source": [
    "# Your code here\n",
    "inertia = []\n",
    "for k in tqdm_notebook(range(1, n_classes + 1)):\n",
    "    kmeans = KMeans(n_clusters=k, n_init=100, random_state=RANDOM_STATE).fit(X_pca)\n",
    "    inertia.append(np.sqrt(kmeans.inertia_))"
   ]
  },
  {
   "cell_type": "code",
   "execution_count": 65,
   "metadata": {},
   "outputs": [
    {
     "data": {
      "image/png": "[encoded data removed]",
      "text/plain": [
       "<Figure size 864x648 with 1 Axes>"
      ]
     },
     "metadata": {},
     "output_type": "display_data"
    }
   ],
   "source": [
    "plt.plot(range(1, 13), inertia, marker='s');\n",
    "plt.xlabel('$k$')\n",
    "plt.ylabel('$J(C_k)$');"
   ]
  },
  {
   "cell_type": "markdown",
   "metadata": {},
   "source": [
    "\n",
    "\n",
    "We calculate $ D(k) $, as described in the lecture"
   ]
  },
  {
   "cell_type": "code",
   "execution_count": 9,
   "metadata": {},
   "outputs": [],
   "source": [
    "# Your code here"
   ]
  },
  {
   "cell_type": "markdown",
   "metadata": {},
   "source": [
    "**Question 5:** <br>\n",
    "How many clusters can we choose according to the elbow method? <br>\n",
    "\n",
    "**Answer options:**\n",
    "- 1\n",
    "- 2\n",
    "- 3\n",
    "- 4\n",
    "- 5\n",
    "- 6\n",
    "- 7 "
   ]
  },
  {
   "cell_type": "markdown",
   "metadata": {},
   "source": [
    "#### ANSWER: 3"
   ]
  },
  {
   "cell_type": "markdown",
   "metadata": {},
   "source": [
    "------------------------"
   ]
  },
  {
   "cell_type": "markdown",
   "metadata": {},
   "source": [
    "Let's try another method of clustering, which was described in the article - agglomerative clustering."
   ]
  },
  {
   "cell_type": "code",
   "execution_count": 66,
   "metadata": {
    "jupyter": {
     "outputs_hidden": true
    }
   },
   "outputs": [],
   "source": [
    "ag = AgglomerativeClustering(n_clusters=n_classes, \n",
    "                             linkage='ward').fit(X_pca)"
   ]
  },
  {
   "cell_type": "markdown",
   "metadata": {},
   "source": [
    "Calculate the Adjusted Rand Index (`sklearn.metrics`) for the resulting clustering and for ` KMeans` with the parameters from the 4th question."
   ]
  },
  {
   "cell_type": "code",
   "execution_count": 73,
   "metadata": {},
   "outputs": [
    {
     "name": "stdout",
     "output_type": "stream",
     "text": [
      "Adj Rand Index for AgglomerativeClustering: 0.4814887339472782\n",
      "Adj Rand Index for KMeans: 0.3072621380306462\n"
     ]
    }
   ],
   "source": [
    "from sklearn import metrics\n",
    "ag_ari = metrics.adjusted_rand_score(y, ag.labels_)\n",
    "print(\"Adj Rand Index for AgglomerativeClustering:\", ag_ari)\n",
    "kmeans = KMeans(n_clusters=6, n_init=100, random_state=RANDOM_STATE).fit(X_pca)\n",
    "kmeans_ari = metrics.adjusted_rand_score(y, kmeans.labels_)\n",
    "print(\"Adj Rand Index for KMeans:\", kmeans_ari)"
   ]
  },
  {
   "cell_type": "markdown",
   "metadata": {},
   "source": [
    "**Question 6:** <br>\n",
    "Select all the correct statements. <br>\n",
    "\n",
    "** Answer options: **\n",
    "- ARI expresses the similarity of the tags obtained after clustering, with class labels for the same sample and the higher the value of this index, the better\n",
    "- According to ARI, KMeans handled clustering worse than Agglomerative Clustering\n",
    "- For ARI, it does not matter which tags are assigned to the cluster, only the partitioning of objects into clusters is important\n",
    "- In case of random partitioning into clusters ARI will be close to zero\n",
    "\n",
    "\n",
    "\n",
    "**Comment:**\n",
    "Check ARI documentation in sklearn docs"
   ]
  },
  {
   "cell_type": "markdown",
   "metadata": {},
   "source": [
    "#### ANSWER: \n",
    "- According to ARI, KMeans handled clustering worse than Agglomerative Clustering\n",
    "- For ARI, it does not matter which tags are assigned to the cluster, only the partitioning of objects into clusters is important\n",
    "- In case of random partitioning into clusters ARI will be close to zero"
   ]
  },
  {
   "cell_type": "markdown",
   "metadata": {},
   "source": [
    "You can notice that the task is not very well solved just as a clustering task if you select several clusters (> 2). Now, let's solve the classification problem, given that the data is marked up.\n",
    "\n",
    "For classification, use the support vector machine - class `sklearn.svm.LinearSVC`. in this course, we did not review on this algorithm separately, but it is well-known and you can read about it, for example, in the materials of Yevgeny Sokolov - [here](https://github.com/esokolov/ml-course-msu/blob/master/ML16/lecture-notes/Sem11_linear.pdf).\n",
    "\n",
    "Choose the `C` hyperparameter for` LinearSVC` using `GridSearchCV`.\n",
    "\n",
    "- Train the new `StandardScaler` on the training sample (with all the original features), apply scaling to the test sample\n",
    "- In `GridSearchCV`, specify cv = 3."
   ]
  },
  {
   "cell_type": "code",
   "execution_count": 75,
   "metadata": {
    "jupyter": {
     "outputs_hidden": true
    }
   },
   "outputs": [
    {
     "name": "stdout",
     "output_type": "stream",
     "text": [
      "X_train_scaled.shape (7767, 561)\n",
      "X_test_scaled.shape (3162, 561)\n"
     ]
    }
   ],
   "source": [
    "# Your code here\n",
    "X_train_scaled = scaler.fit_transform(X_train)\n",
    "X_test_scaled = scaler.fit_transform(X_test)\n",
    "\n",
    "print(\"X_train_scaled.shape\",X_train_scaled.shape)\n",
    "print(\"X_test_scaled.shape\",X_test_scaled.shape)"
   ]
  },
  {
   "cell_type": "code",
   "execution_count": 76,
   "metadata": {
    "jupyter": {
     "outputs_hidden": true
    }
   },
   "outputs": [],
   "source": [
    "svc = LinearSVC(random_state=RANDOM_STATE)\n",
    "svc_params = {'C': [0.001, 0.01, 0.1, 1, 10]}"
   ]
  },
  {
   "cell_type": "code",
   "execution_count": 79,
   "metadata": {},
   "outputs": [
    {
     "name": "stdout",
     "output_type": "stream",
     "text": [
      "Fitting 3 folds for each of 5 candidates, totalling 15 fits\n"
     ]
    },
    {
     "name": "stderr",
     "output_type": "stream",
     "text": [
      "[Parallel(n_jobs=-1)]: Using backend LokyBackend with 8 concurrent workers.\n",
      "[Parallel(n_jobs=-1)]: Done  15 out of  15 | elapsed:  1.0min finished\n",
      "/home/sethu/anaconda3/lib/python3.7/site-packages/sklearn/svm/_base.py:947: ConvergenceWarning: Liblinear failed to converge, increase the number of iterations.\n",
      "  \"the number of iterations.\", ConvergenceWarning)\n"
     ]
    },
    {
     "data": {
      "text/plain": [
       "GridSearchCV(cv=3, error_score=nan,\n",
       "             estimator=LinearSVC(C=1.0, class_weight=None, dual=True,\n",
       "                                 fit_intercept=True, intercept_scaling=1,\n",
       "                                 loss='squared_hinge', max_iter=1000,\n",
       "                                 multi_class='ovr', penalty='l2',\n",
       "                                 random_state=17, tol=0.0001, verbose=0),\n",
       "             iid='deprecated', n_jobs=-1,\n",
       "             param_grid={'C': [0.001, 0.01, 0.1, 1, 10]},\n",
       "             pre_dispatch='2*n_jobs', refit=True, return_train_score=False,\n",
       "             scoring=None, verbose=True)"
      ]
     },
     "execution_count": 79,
     "metadata": {},
     "output_type": "execute_result"
    }
   ],
   "source": [
    "best_svc = GridSearchCV(svc, svc_params, cv=3, n_jobs=-1, verbose=True)\n",
    "best_svc.fit(X_train_scaled, y_train)"
   ]
  },
  {
   "cell_type": "code",
   "execution_count": 80,
   "metadata": {},
   "outputs": [
    {
     "data": {
      "text/plain": [
       "({'C': 0.1}, 0.9289300888373889)"
      ]
     },
     "execution_count": 80,
     "metadata": {},
     "output_type": "execute_result"
    }
   ],
   "source": [
    "best_svc.best_params_, best_svc.best_score_"
   ]
  },
  {
   "cell_type": "markdown",
   "metadata": {},
   "source": [
    "**Question 7**<br>\n",
    "Which value of the hyperparameter `C` was chosen the best on the basis of cross-validation? <br>\n",
    "\n",
    "**Answer options:**\n",
    "- 0.001\n",
    "- 0.01\n",
    "- 0.1,\n",
    "- 1\n",
    "- 10"
   ]
  },
  {
   "cell_type": "markdown",
   "metadata": {},
   "source": [
    "#### ANSWER: 0.1"
   ]
  },
  {
   "cell_type": "markdown",
   "metadata": {},
   "source": [
    " "
   ]
  },
  {
   "cell_type": "code",
   "execution_count": 81,
   "metadata": {
    "jupyter": {
     "outputs_hidden": true
    }
   },
   "outputs": [],
   "source": [
    "y_predicted = best_svc.predict(X_test_scaled)"
   ]
  },
  {
   "cell_type": "code",
   "execution_count": 82,
   "metadata": {},
   "outputs": [
    {
     "data": {
      "text/html": [
       "<div>\n",
       "<style scoped>\n",
       "    .dataframe tbody tr th:only-of-type {\n",
       "        vertical-align: middle;\n",
       "    }\n",
       "\n",
       "    .dataframe tbody tr th {\n",
       "        vertical-align: top;\n",
       "    }\n",
       "\n",
       "    .dataframe thead th {\n",
       "        text-align: right;\n",
       "    }\n",
       "</style>\n",
       "<table border=\"1\" class=\"dataframe\">\n",
       "  <thead>\n",
       "    <tr style=\"text-align: right;\">\n",
       "      <th></th>\n",
       "      <th>WALKING</th>\n",
       "      <th>WALKING_UPSTAIRS</th>\n",
       "      <th>WALKING_DOWNSTAIRS</th>\n",
       "      <th>SITTING</th>\n",
       "      <th>LAYING</th>\n",
       "      <th>STAND_TO_SIT</th>\n",
       "      <th>SIT_TO_STAND</th>\n",
       "      <th>SIT_TO_STAND</th>\n",
       "      <th>SIT_TO_LIE</th>\n",
       "      <th>LIE_TO_SIT</th>\n",
       "      <th>STAND_TO_LIE</th>\n",
       "      <th>LIE_TO_STAND</th>\n",
       "      <th>all</th>\n",
       "    </tr>\n",
       "  </thead>\n",
       "  <tbody>\n",
       "    <tr>\n",
       "      <th>WALKING</th>\n",
       "      <td>481</td>\n",
       "      <td>12</td>\n",
       "      <td>2</td>\n",
       "      <td>1</td>\n",
       "      <td>0</td>\n",
       "      <td>0</td>\n",
       "      <td>0</td>\n",
       "      <td>0</td>\n",
       "      <td>0</td>\n",
       "      <td>0</td>\n",
       "      <td>0</td>\n",
       "      <td>0</td>\n",
       "      <td>496</td>\n",
       "    </tr>\n",
       "    <tr>\n",
       "      <th>WALKING_UPSTAIRS</th>\n",
       "      <td>12</td>\n",
       "      <td>455</td>\n",
       "      <td>1</td>\n",
       "      <td>1</td>\n",
       "      <td>0</td>\n",
       "      <td>0</td>\n",
       "      <td>1</td>\n",
       "      <td>0</td>\n",
       "      <td>0</td>\n",
       "      <td>0</td>\n",
       "      <td>1</td>\n",
       "      <td>0</td>\n",
       "      <td>471</td>\n",
       "    </tr>\n",
       "    <tr>\n",
       "      <th>WALKING_DOWNSTAIRS</th>\n",
       "      <td>1</td>\n",
       "      <td>1</td>\n",
       "      <td>418</td>\n",
       "      <td>0</td>\n",
       "      <td>0</td>\n",
       "      <td>0</td>\n",
       "      <td>0</td>\n",
       "      <td>0</td>\n",
       "      <td>0</td>\n",
       "      <td>0</td>\n",
       "      <td>0</td>\n",
       "      <td>0</td>\n",
       "      <td>420</td>\n",
       "    </tr>\n",
       "    <tr>\n",
       "      <th>SITTING</th>\n",
       "      <td>0</td>\n",
       "      <td>4</td>\n",
       "      <td>0</td>\n",
       "      <td>444</td>\n",
       "      <td>57</td>\n",
       "      <td>2</td>\n",
       "      <td>1</td>\n",
       "      <td>0</td>\n",
       "      <td>0</td>\n",
       "      <td>0</td>\n",
       "      <td>0</td>\n",
       "      <td>0</td>\n",
       "      <td>508</td>\n",
       "    </tr>\n",
       "    <tr>\n",
       "      <th>LAYING</th>\n",
       "      <td>0</td>\n",
       "      <td>0</td>\n",
       "      <td>0</td>\n",
       "      <td>14</td>\n",
       "      <td>541</td>\n",
       "      <td>0</td>\n",
       "      <td>0</td>\n",
       "      <td>0</td>\n",
       "      <td>0</td>\n",
       "      <td>0</td>\n",
       "      <td>1</td>\n",
       "      <td>0</td>\n",
       "      <td>556</td>\n",
       "    </tr>\n",
       "    <tr>\n",
       "      <th>STAND_TO_SIT</th>\n",
       "      <td>0</td>\n",
       "      <td>0</td>\n",
       "      <td>0</td>\n",
       "      <td>0</td>\n",
       "      <td>2</td>\n",
       "      <td>543</td>\n",
       "      <td>0</td>\n",
       "      <td>0</td>\n",
       "      <td>0</td>\n",
       "      <td>0</td>\n",
       "      <td>0</td>\n",
       "      <td>0</td>\n",
       "      <td>545</td>\n",
       "    </tr>\n",
       "    <tr>\n",
       "      <th>SIT_TO_STAND</th>\n",
       "      <td>0</td>\n",
       "      <td>0</td>\n",
       "      <td>0</td>\n",
       "      <td>1</td>\n",
       "      <td>2</td>\n",
       "      <td>0</td>\n",
       "      <td>19</td>\n",
       "      <td>0</td>\n",
       "      <td>1</td>\n",
       "      <td>0</td>\n",
       "      <td>0</td>\n",
       "      <td>0</td>\n",
       "      <td>23</td>\n",
       "    </tr>\n",
       "    <tr>\n",
       "      <th>SIT_TO_STAND</th>\n",
       "      <td>0</td>\n",
       "      <td>0</td>\n",
       "      <td>0</td>\n",
       "      <td>0</td>\n",
       "      <td>0</td>\n",
       "      <td>0</td>\n",
       "      <td>0</td>\n",
       "      <td>10</td>\n",
       "      <td>0</td>\n",
       "      <td>0</td>\n",
       "      <td>0</td>\n",
       "      <td>0</td>\n",
       "      <td>10</td>\n",
       "    </tr>\n",
       "    <tr>\n",
       "      <th>SIT_TO_LIE</th>\n",
       "      <td>0</td>\n",
       "      <td>0</td>\n",
       "      <td>0</td>\n",
       "      <td>0</td>\n",
       "      <td>0</td>\n",
       "      <td>1</td>\n",
       "      <td>2</td>\n",
       "      <td>1</td>\n",
       "      <td>23</td>\n",
       "      <td>0</td>\n",
       "      <td>5</td>\n",
       "      <td>0</td>\n",
       "      <td>32</td>\n",
       "    </tr>\n",
       "    <tr>\n",
       "      <th>LIE_TO_SIT</th>\n",
       "      <td>0</td>\n",
       "      <td>0</td>\n",
       "      <td>0</td>\n",
       "      <td>0</td>\n",
       "      <td>0</td>\n",
       "      <td>0</td>\n",
       "      <td>0</td>\n",
       "      <td>0</td>\n",
       "      <td>0</td>\n",
       "      <td>17</td>\n",
       "      <td>0</td>\n",
       "      <td>8</td>\n",
       "      <td>25</td>\n",
       "    </tr>\n",
       "    <tr>\n",
       "      <th>STAND_TO_LIE</th>\n",
       "      <td>2</td>\n",
       "      <td>1</td>\n",
       "      <td>0</td>\n",
       "      <td>2</td>\n",
       "      <td>0</td>\n",
       "      <td>1</td>\n",
       "      <td>0</td>\n",
       "      <td>0</td>\n",
       "      <td>12</td>\n",
       "      <td>1</td>\n",
       "      <td>29</td>\n",
       "      <td>1</td>\n",
       "      <td>49</td>\n",
       "    </tr>\n",
       "    <tr>\n",
       "      <th>LIE_TO_STAND</th>\n",
       "      <td>0</td>\n",
       "      <td>0</td>\n",
       "      <td>0</td>\n",
       "      <td>0</td>\n",
       "      <td>0</td>\n",
       "      <td>0</td>\n",
       "      <td>0</td>\n",
       "      <td>0</td>\n",
       "      <td>0</td>\n",
       "      <td>4</td>\n",
       "      <td>2</td>\n",
       "      <td>21</td>\n",
       "      <td>27</td>\n",
       "    </tr>\n",
       "    <tr>\n",
       "      <th>all</th>\n",
       "      <td>496</td>\n",
       "      <td>473</td>\n",
       "      <td>421</td>\n",
       "      <td>463</td>\n",
       "      <td>602</td>\n",
       "      <td>547</td>\n",
       "      <td>23</td>\n",
       "      <td>11</td>\n",
       "      <td>36</td>\n",
       "      <td>22</td>\n",
       "      <td>38</td>\n",
       "      <td>30</td>\n",
       "      <td>3162</td>\n",
       "    </tr>\n",
       "  </tbody>\n",
       "</table>\n",
       "</div>"
      ],
      "text/plain": [
       "                    WALKING  WALKING_UPSTAIRS  WALKING_DOWNSTAIRS  SITTING  \\\n",
       "WALKING                 481                12                   2        1   \n",
       "WALKING_UPSTAIRS         12               455                   1        1   \n",
       "WALKING_DOWNSTAIRS        1                 1                 418        0   \n",
       "SITTING                   0                 4                   0      444   \n",
       "LAYING                    0                 0                   0       14   \n",
       "STAND_TO_SIT              0                 0                   0        0   \n",
       "SIT_TO_STAND              0                 0                   0        1   \n",
       "SIT_TO_STAND              0                 0                   0        0   \n",
       "SIT_TO_LIE                0                 0                   0        0   \n",
       " LIE_TO_SIT               0                 0                   0        0   \n",
       "STAND_TO_LIE              2                 1                   0        2   \n",
       "LIE_TO_STAND              0                 0                   0        0   \n",
       "all                     496               473                 421      463   \n",
       "\n",
       "                    LAYING  STAND_TO_SIT  SIT_TO_STAND  SIT_TO_STAND  \\\n",
       "WALKING                  0             0             0             0   \n",
       "WALKING_UPSTAIRS         0             0             1             0   \n",
       "WALKING_DOWNSTAIRS       0             0             0             0   \n",
       "SITTING                 57             2             1             0   \n",
       "LAYING                 541             0             0             0   \n",
       "STAND_TO_SIT             2           543             0             0   \n",
       "SIT_TO_STAND             2             0            19             0   \n",
       "SIT_TO_STAND             0             0             0            10   \n",
       "SIT_TO_LIE               0             1             2             1   \n",
       " LIE_TO_SIT              0             0             0             0   \n",
       "STAND_TO_LIE             0             1             0             0   \n",
       "LIE_TO_STAND             0             0             0             0   \n",
       "all                    602           547            23            11   \n",
       "\n",
       "                    SIT_TO_LIE   LIE_TO_SIT  STAND_TO_LIE  LIE_TO_STAND   all  \n",
       "WALKING                      0            0             0             0   496  \n",
       "WALKING_UPSTAIRS             0            0             1             0   471  \n",
       "WALKING_DOWNSTAIRS           0            0             0             0   420  \n",
       "SITTING                      0            0             0             0   508  \n",
       "LAYING                       0            0             1             0   556  \n",
       "STAND_TO_SIT                 0            0             0             0   545  \n",
       "SIT_TO_STAND                 1            0             0             0    23  \n",
       "SIT_TO_STAND                 0            0             0             0    10  \n",
       "SIT_TO_LIE                  23            0             5             0    32  \n",
       " LIE_TO_SIT                  0           17             0             8    25  \n",
       "STAND_TO_LIE                12            1            29             1    49  \n",
       "LIE_TO_STAND                 0            4             2            21    27  \n",
       "all                         36           22            38            30  3162  "
      ]
     },
     "execution_count": 82,
     "metadata": {},
     "output_type": "execute_result"
    }
   ],
   "source": [
    "tab = pd.crosstab(y_test, y_predicted, margins=True)\n",
    "tab.index = ['WALKING', 'WALKING_UPSTAIRS',\n",
    "            'WALKING_DOWNSTAIRS', 'SITTING', 'LAYING', 'STAND_TO_SIT','SIT_TO_STAND', 'SIT_TO_STAND', 'SIT_TO_LIE',' LIE_TO_SIT',\n",
    "             'STAND_TO_LIE','LIE_TO_STAND','all']\n",
    "tab.columns = ['WALKING', 'WALKING_UPSTAIRS',\n",
    "            'WALKING_DOWNSTAIRS', 'SITTING', 'LAYING', 'STAND_TO_SIT','SIT_TO_STAND', 'SIT_TO_STAND', 'SIT_TO_LIE',' LIE_TO_SIT',\n",
    "             'STAND_TO_LIE','LIE_TO_STAND','all']\n",
    "tab"
   ]
  },
  {
   "cell_type": "markdown",
   "metadata": {},
   "source": [
    "As you can see, the classification problem is solved quite well."
   ]
  },
  {
   "cell_type": "markdown",
   "metadata": {},
   "source": [
    "**Question 8:** <br>\n",
    "Does SVM confuse the classes inside the activity groups we identified earlier (in the question 3)? We consider that it is confused, if the algorithm was wrong at least in one case. <br>\n",
    "\n",
    "**Answer options:**\n",
    "- yes\n",
    "- no\n"
   ]
  },
  {
   "cell_type": "markdown",
   "metadata": {},
   "source": [
    "#### ANSWER: yes"
   ]
  },
  {
   "cell_type": "markdown",
   "metadata": {},
   "source": [
    " "
   ]
  },
  {
   "cell_type": "markdown",
   "metadata": {},
   "source": [
    "Finally, do the same thing as in Question 7, but add the PCA.\n",
    "\n",
    "- Use the samples `X_train_scaled` and` X_test_scaled`\n",
    "- Teach the same PCA as before, on a scaled training sample, apply the conversion to a test\n",
    "- Choose the hyperparameter `C` with cross-validation on the training sample with PCA-transformation. You will notice how much faster it works than before.\n",
    "\n",
    "**Question 9:** <br>\n",
    "What is the difference between the best quality (the proportion of correct answers) for cross-validation in the case of all 561 initial characteristics and in the second case, when the principal component method was applied? Round to the nearest percent. <br>\n",
    "\n",
    "**Options:**\n",
    "- The quality is the same\n",
    "- 2%\n",
    "- 4%\n",
    "- 10%\n",
    "- 20%"
   ]
  },
  {
   "cell_type": "markdown",
   "metadata": {},
   "source": [
    "#### ANSWER: 4%"
   ]
  },
  {
   "cell_type": "code",
   "execution_count": 87,
   "metadata": {
    "jupyter": {
     "outputs_hidden": true
    }
   },
   "outputs": [],
   "source": [
    "pca = decomposition.PCA(n_components=65, random_state=RANDOM_STATE)\n",
    "X_train_pca = pca.fit_transform(X_train_scaled)\n",
    "X_test_pca = pca.fit_transform(X_test_scaled)"
   ]
  },
  {
   "cell_type": "code",
   "execution_count": 88,
   "metadata": {},
   "outputs": [
    {
     "name": "stdout",
     "output_type": "stream",
     "text": [
      "Fitting 3 folds for each of 5 candidates, totalling 15 fits\n"
     ]
    },
    {
     "name": "stderr",
     "output_type": "stream",
     "text": [
      "[Parallel(n_jobs=-1)]: Using backend LokyBackend with 8 concurrent workers.\n",
      "[Parallel(n_jobs=-1)]: Done  15 out of  15 | elapsed:   12.7s finished\n",
      "/home/sethu/anaconda3/lib/python3.7/site-packages/sklearn/svm/_base.py:947: ConvergenceWarning: Liblinear failed to converge, increase the number of iterations.\n",
      "  \"the number of iterations.\", ConvergenceWarning)\n"
     ]
    },
    {
     "data": {
      "text/plain": [
       "GridSearchCV(cv=3, error_score=nan,\n",
       "             estimator=LinearSVC(C=1.0, class_weight=None, dual=True,\n",
       "                                 fit_intercept=True, intercept_scaling=1,\n",
       "                                 loss='squared_hinge', max_iter=1000,\n",
       "                                 multi_class='ovr', penalty='l2',\n",
       "                                 random_state=17, tol=0.0001, verbose=0),\n",
       "             iid='deprecated', n_jobs=-1,\n",
       "             param_grid={'C': [0.001, 0.01, 0.1, 1, 10]},\n",
       "             pre_dispatch='2*n_jobs', refit=True, return_train_score=False,\n",
       "             scoring=None, verbose=True)"
      ]
     },
     "execution_count": 88,
     "metadata": {},
     "output_type": "execute_result"
    }
   ],
   "source": [
    "svc = LinearSVC(random_state=RANDOM_STATE)\n",
    "svc_params = {'C': [0.001, 0.01, 0.1, 1, 10]}\n",
    "best_svc = GridSearchCV(svc, svc_params, cv=3, n_jobs=-1, verbose=True)\n",
    "best_svc.fit(X_train_pca, y_train)"
   ]
  },
  {
   "cell_type": "code",
   "execution_count": 89,
   "metadata": {},
   "outputs": [
    {
     "data": {
      "text/plain": [
       "({'C': 0.1}, 0.8847688940388824)"
      ]
     },
     "execution_count": 89,
     "metadata": {},
     "output_type": "execute_result"
    }
   ],
   "source": [
    "best_svc.best_params_, best_svc.best_score_"
   ]
  },
  {
   "cell_type": "markdown",
   "metadata": {},
   "source": [
    " "
   ]
  },
  {
   "cell_type": "markdown",
   "metadata": {},
   "source": [
    "**Question 10:** <br>\n",
    "Select all the correct statements:\n",
    "\n",
    "**Answer options:**\n",
    "- Principal component analysis in this case allowed to reduce the model training time, while the quality (the proportion of correct responses on cross-validation) suffered greatly, by more than 10%\n",
    "- PCA can be used to visualize data, but there are better methods for this task, for example, tSNE. But PCA has less computational complexity\n",
    "- PCA builds linear combinations of initial characteristics that are poorly interpreted by humans\n",
    "- SVM works better than kMeans, since it clearly reduces the algorithm to the optimization problem"
   ]
  },
  {
   "cell_type": "markdown",
   "metadata": {},
   "source": [
    "#### ANSWER:\n",
    "- PCA builds linear combinations of initial characteristics that are poorly interpreted by humans\n",
    "- SVM works better than kMeans, since it clearly reduces the algorithm to the optimization problem"
   ]
  },
  {
   "cell_type": "code",
   "execution_count": null,
   "metadata": {},
   "outputs": [],
   "source": []
  }
 ],
 "metadata": {
  "anaconda-cloud": {},
  "kernelspec": {
   "display_name": "Python 3",
   "language": "python",
   "name": "python3"
  },
  "language_info": {
   "codemirror_mode": {
    "name": "ipython",
    "version": 3
   },
   "file_extension": ".py",
   "mimetype": "text/x-python",
   "name": "python",
   "nbconvert_exporter": "python",
   "pygments_lexer": "ipython3",
   "version": "3.7.7"
  },
  "toc": {
   "base_numbering": 1,
   "nav_menu": {},
   "number_sections": true,
   "sideBar": true,
   "skip_h1_title": false,
   "title_cell": "Table of Contents",
   "title_sidebar": "Contents",
   "toc_cell": false,
   "toc_position": {},
   "toc_section_display": true,
   "toc_window_display": false
  }
 },
 "nbformat": 4,
 "nbformat_minor": 4
}
