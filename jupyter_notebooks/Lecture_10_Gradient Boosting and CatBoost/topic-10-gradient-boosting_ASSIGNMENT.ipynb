{
 "cells": [
  {
   "cell_type": "markdown",
   "metadata": {},
   "source": [
    "<center>\n",
    "<img src=\"../../img/ods_stickers.jpg\" />\n",
    "    \n",
    "## [GitHub](https://github.com/DmitriiDenisov/mlcourse_dubai) – Open Machine Learning Course in Dubai"
   ]
  },
  {
   "cell_type": "markdown",
   "metadata": {},
   "source": [
    "# <center> Assignment #10. <br> Tutorial on XBGoost vs LightGBM<br>"
   ]
  },
  {
   "cell_type": "markdown",
   "metadata": {},
   "source": [
    "## Task\n",
    "You should prepare the Tutorial on XGBoost vs LightGBM algorithms comparison. The goal is to investigate the main features of each algorithm, compare and highlight important features. As we want to compare the core performance of algorithms the feature engineering will be limited.\n",
    "\n",
    "## Rules\n",
    "* You should select classification or regression task\n",
    "* For feature engineering you can apply only encodings, normalization, missing values imputation techniques\n",
    "* Provide code visualizations where is needed\n",
    "* Each section should contain description and conclusion\n",
    "\n",
    "## Data \n",
    "There is no restriction on Dataset. You can look through the Dataset using following links: \n",
    "* [Google Dataset Search](https://datasetsearch.research.google.com/)\n",
    "* [Kaggle](https://www.kaggle.com/)\n",
    "* [AWS Datasets](https://registry.opendata.aws/)\n",
    "* [UCI Machine Learning Repository](https://archive.ics.uci.edu/ml/index.php)\n",
    "* [US GOV open data](https://www.data.gov/)\n",
    "* and etc.\n",
    "\n",
    "## Main sections to include\n",
    "- Algorithm overview\n",
    "- Categorical features handling\n",
    "- Missing values handling\n",
    "- Feature Importance\n",
    "- Important Hyperparameters and Tunning:\n",
    "  - Grid Search\n",
    "  - Random Search\n",
    "  - Other on your choice\n",
    "- Performance metrics (*is it possible to use a user-defined metric?*)\n",
    "- Overfitting\n",
    "- Cross-Validation\n",
    "- Other important library features (*you can add any feature description on your decision*)\n",
    "- Performance and Speed \n",
    "- Advantages and Disadvantages\n",
    "- Which algorithm to use?\n",
    "\n",
    "\n",
    "## Deadline\n",
    "You should send your Tutorial by **2020 June 21, 23:59 PM** to dmitriy.dovgan@gmail.com\n",
    "\n",
    "## Assessment\n",
    "You can receive **20 points** for this task:\n",
    "* *10* - quality of tutorial\n",
    "* *10* - final model performance\n",
    "\n",
    "**TOP-3 tutorials** will be included into Course GitHub.\n",
    "\n",
    "## Useful Resources\n",
    "1. [XGBoost Documentation](https://xgboost.readthedocs.io/en/latest/index.html) and [Git](https://github.com/dmlc/xgboost/)\n",
    "2. [LightGBM Documentation](https://lightgbm.readthedocs.io/en/latest/) and [Git](https://github.com/microsoft/LightGBM)\n",
    "3. We recommend you to start with [CatBoost vs. Light GBM vs. XGBoost](https://towardsdatascience.com/catboost-vs-light-gbm-vs-xgboost-5f93620723db#:~:text=Structural%20Differences%20in%20LightGBM%20%26%20XGBoost,Here%20instances%20mean%20observations%2Fsamples.)"
   ]
  }
 ],
 "metadata": {
  "kernelspec": {
   "display_name": "Python 3",
   "language": "python",
   "name": "python3"
  },
  "language_info": {
   "codemirror_mode": {
    "name": "ipython",
    "version": 3
   },
   "file_extension": ".py",
   "mimetype": "text/x-python",
   "name": "python",
   "nbconvert_exporter": "python",
   "pygments_lexer": "ipython3",
   "version": "3.7.4"
  },
  "toc": {
   "base_numbering": 1,
   "nav_menu": {},
   "number_sections": true,
   "sideBar": true,
   "skip_h1_title": false,
   "title_cell": "Table of Contents",
   "title_sidebar": "Contents",
   "toc_cell": false,
   "toc_position": {},
   "toc_section_display": true,
   "toc_window_display": false
  }
 },
 "nbformat": 4,
 "nbformat_minor": 2
}
